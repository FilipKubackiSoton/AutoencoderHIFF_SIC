{
 "cells": [
  {
   "cell_type": "code",
   "execution_count": 7,
   "metadata": {},
   "outputs": [],
   "source": [
    "import matplotlib.pyplot as plt\n",
    "from typing import List, Optional\n",
    "import tensorflow as tf\n",
    "import sys\n",
    "sys.path.append('./src')\n",
    "from autoencoder import Autoencoder\n",
    "from SINDY import sindy_library_tf\n",
    "from HIFF import generate_training_sat"
   ]
  },
  {
   "cell_type": "code",
   "execution_count": 8,
   "metadata": {},
   "outputs": [
    {
     "name": "stdout",
     "output_type": "stream",
     "text": [
      "[INFO] generating trainnig dataset...\n",
      "[INFO] generating testing dataset...\n"
     ]
    }
   ],
   "source": [
    "# generate the trainig set \n",
    "print(\"[INFO] generating trainnig dataset...\")\n",
    "(trainX, trainY) = generate_training_sat(32, 300)\n",
    "\n",
    "# generate the test set \n",
    "print(\"[INFO] generating testing dataset...\")\n",
    "(testX, testY) = generate_training_sat(32,60)"
   ]
  },
  {
   "cell_type": "code",
   "execution_count": 4,
   "metadata": {},
   "outputs": [
    {
     "name": "stdout",
     "output_type": "stream",
     "text": [
      "[{'l1': 0.001, 'l2': 0.0, 'dropout': 0.2, 'activation': 'tanh', 'kernel_initializer': <keras.initializers.initializers_v2.RandomNormal object at 0x7f2159c07c88>, 'bias_initializer': <keras.initializers.initializers_v2.Zeros object at 0x7f2159c07d30>}, {'l1': 0.001, 'l2': 0.0, 'dropout': 0.2, 'activation': 'tanh', 'kernel_initializer': <keras.initializers.initializers_v2.RandomNormal object at 0x7f2159c07c88>, 'bias_initializer': <keras.initializers.initializers_v2.Zeros object at 0x7f2159c07d30>}]\n",
      "Model: \"model_2\"\n",
      "_________________________________________________________________\n",
      "Layer (type)                 Output Shape              Param #   \n",
      "=================================================================\n",
      "autoencoder_input (InputLaye [(None, 32)]              0         \n",
      "_________________________________________________________________\n",
      "fucku_0_dropout (Dropout)    (None, 32)                0         \n",
      "_________________________________________________________________\n",
      "fucku_0 (Dense)              (None, 25)                825       \n",
      "_________________________________________________________________\n",
      "decoder_0 (DenseTranspose)   (None, 32)                857       \n",
      "=================================================================\n",
      "Total params: 857\n",
      "Trainable params: 857\n",
      "Non-trainable params: 0\n",
      "_________________________________________________________________\n"
     ]
    }
   ],
   "source": [
    "epochs = 20\n",
    "batch_size = 5\n",
    "# \"layers_params\" : [{\"l1\": 0.001, \"l2\" : 0.0, \"dropout\" : 0.2}, {\"l1\" : 0.001}],\n",
    "\n",
    "model = Autoencoder([32, 25], ekwargs = {\n",
    "        \"name\" : \"fucku\",\n",
    "        \"layers_params\" : [{\"l1\": 0.001, \"l2\" : 0.0, \"dropout\" : 0.2}, {\"l1\" : 0.001}],\n",
    "        'layers_default_params' : {\n",
    "        'l1' : 0.001, \n",
    "        'l2' : 0.0, \n",
    "        'dropout' : 0.2, \n",
    "        'activation' : \"tanh\",\n",
    "        'kernel_initializer' : tf.keras.initializers.RandomNormal(stddev=0.01),\n",
    "        'bias_initializer' : tf.keras.initializers.Zeros()\n",
    "        },\n",
    "})\n",
    "model.build_graph().summary()\n",
    "model.compile(\n",
    "        optimizer=tf.keras.optimizers.Adam(learning_rate=0.01), \n",
    "        loss=\"mse\")\n",
    "\n",
    "# model.fit(trainY, trainY, \n",
    "# epochs = epochs, \n",
    "# batch_size = batch_size, \n",
    "# verbose = 1)\n",
    "\n",
    "# plt.imshow(model.encoder.weights[0].numpy())"
   ]
  },
  {
   "cell_type": "code",
   "execution_count": 9,
   "metadata": {},
   "outputs": [],
   "source": [
    "# Prepare the training dataset.\n",
    "train_dataset = tf.data.Dataset.from_tensor_slices((trainY, trainY))\n",
    "train_dataset = train_dataset.shuffle(buffer_size=1024).batch(batch_size)\n",
    "\n",
    "# Prepare the validation dataset.\n",
    "val_dataset = tf.data.Dataset.from_tensor_slices((testY, testY))\n",
    "val_dataset = val_dataset.batch(batch_size)\n",
    "optimizer = tf.keras.optimizers.Adam(learning_rate = 0.01)\n",
    "\n",
    "params = {}\n",
    "params['coefficient_initialization'] = tf.keras.initializers.GlorotUniform()(shape = (2,2))"
   ]
  },
  {
   "cell_type": "code",
   "execution_count": 10,
   "metadata": {},
   "outputs": [
    {
     "name": "stdout",
     "output_type": "stream",
     "text": [
      "\n",
      "Start of epoch 0\n",
      "Training loss (for one batch) at step 0: 0.0683\n",
      "Seen so far: 5 samples\n",
      "Training acc over epoch: 0.9334\n",
      "Validation acc: 0.9225\n",
      "Time taken: 1.14s\n",
      "\n",
      "Start of epoch 1\n",
      "Training loss (for one batch) at step 0: 0.0383\n",
      "Seen so far: 5 samples\n",
      "Training acc over epoch: 0.9444\n",
      "Validation acc: 0.9222\n",
      "Time taken: 1.33s\n",
      "\n",
      "Start of epoch 2\n",
      "Training loss (for one batch) at step 0: 0.0233\n",
      "Seen so far: 5 samples\n",
      "Training acc over epoch: 0.9434\n",
      "Validation acc: 0.9392\n",
      "Time taken: 1.35s\n",
      "\n",
      "Start of epoch 3\n",
      "Training loss (for one batch) at step 0: 0.0577\n",
      "Seen so far: 5 samples\n",
      "Training acc over epoch: 0.9447\n",
      "Validation acc: 0.9282\n",
      "Time taken: 1.32s\n",
      "\n",
      "Start of epoch 4\n",
      "Training loss (for one batch) at step 0: 0.0263\n",
      "Seen so far: 5 samples\n",
      "Training acc over epoch: 0.9433\n",
      "Validation acc: 0.9672\n",
      "Time taken: 0.74s\n",
      "\n",
      "Start of epoch 5\n",
      "Training loss (for one batch) at step 0: 0.0706\n",
      "Seen so far: 5 samples\n",
      "Training acc over epoch: 0.9509\n",
      "Validation acc: 0.9861\n",
      "Time taken: 0.86s\n",
      "\n",
      "Start of epoch 6\n",
      "Training loss (for one batch) at step 0: 0.0132\n",
      "Seen so far: 5 samples\n",
      "Training acc over epoch: 0.9498\n",
      "Validation acc: 0.9497\n",
      "Time taken: 0.66s\n",
      "\n",
      "Start of epoch 7\n",
      "Training loss (for one batch) at step 0: 0.0143\n",
      "Seen so far: 5 samples\n",
      "Training acc over epoch: 0.9502\n",
      "Validation acc: 0.9385\n",
      "Time taken: 0.70s\n",
      "\n",
      "Start of epoch 8\n",
      "Training loss (for one batch) at step 0: 0.0415\n",
      "Seen so far: 5 samples\n",
      "Training acc over epoch: 0.9508\n",
      "Validation acc: 0.9578\n",
      "Time taken: 0.51s\n",
      "\n",
      "Start of epoch 9\n",
      "Training loss (for one batch) at step 0: 0.0430\n",
      "Seen so far: 5 samples\n",
      "Training acc over epoch: 0.9488\n",
      "Validation acc: 0.9352\n",
      "Time taken: 0.58s\n",
      "\n",
      "Start of epoch 10\n",
      "Training loss (for one batch) at step 0: 0.0424\n",
      "Seen so far: 5 samples\n",
      "Training acc over epoch: 0.9505\n",
      "Validation acc: 0.9292\n",
      "Time taken: 0.74s\n",
      "\n",
      "Start of epoch 11\n",
      "Training loss (for one batch) at step 0: 0.0145\n",
      "Seen so far: 5 samples\n",
      "Training acc over epoch: 0.9475\n",
      "Validation acc: 0.9333\n",
      "Time taken: 0.63s\n",
      "\n",
      "Start of epoch 12\n",
      "Training loss (for one batch) at step 0: 0.0252\n",
      "Seen so far: 5 samples\n",
      "Training acc over epoch: 0.9506\n",
      "Validation acc: 0.9545\n",
      "Time taken: 0.66s\n",
      "\n",
      "Start of epoch 13\n",
      "Training loss (for one batch) at step 0: 0.0464\n",
      "Seen so far: 5 samples\n",
      "Training acc over epoch: 0.9575\n",
      "Validation acc: 0.9226\n",
      "Time taken: 0.82s\n",
      "\n",
      "Start of epoch 14\n",
      "Training loss (for one batch) at step 0: 0.0111\n",
      "Seen so far: 5 samples\n",
      "Training acc over epoch: 0.9495\n",
      "Validation acc: 0.9258\n",
      "Time taken: 0.76s\n",
      "\n",
      "Start of epoch 15\n",
      "Training loss (for one batch) at step 0: 0.0352\n",
      "Seen so far: 5 samples\n",
      "Training acc over epoch: 0.9559\n",
      "Validation acc: 0.9206\n",
      "Time taken: 0.79s\n",
      "\n",
      "Start of epoch 16\n",
      "Training loss (for one batch) at step 0: 0.0517\n",
      "Seen so far: 5 samples\n",
      "Training acc over epoch: 0.9483\n",
      "Validation acc: 0.9708\n",
      "Time taken: 0.67s\n",
      "\n",
      "Start of epoch 17\n",
      "Training loss (for one batch) at step 0: 0.0320\n",
      "Seen so far: 5 samples\n",
      "Training acc over epoch: 0.9561\n",
      "Validation acc: 0.9268\n",
      "Time taken: 0.63s\n",
      "\n",
      "Start of epoch 18\n",
      "Training loss (for one batch) at step 0: 0.0261\n",
      "Seen so far: 5 samples\n",
      "Training acc over epoch: 0.9503\n",
      "Validation acc: 0.9393\n",
      "Time taken: 0.67s\n",
      "\n",
      "Start of epoch 19\n",
      "Training loss (for one batch) at step 0: 0.0234\n",
      "Seen so far: 5 samples\n",
      "Training acc over epoch: 0.9553\n",
      "Validation acc: 0.9775\n",
      "Time taken: 0.53s\n"
     ]
    }
   ],
   "source": [
    "import time\n",
    "\n",
    "loss_fn = tf.keras.losses.MeanSquaredError()\n",
    "train_acc_metric = tf.keras.metrics.Mean()\n",
    "val_acc_metric = tf.keras.metrics.Mean()\n",
    "\n",
    "for epoch in range(epochs):\n",
    "    print(\"\\nStart of epoch %d\" % (epoch,))\n",
    "    start_time = time.time()\n",
    "\n",
    "    # Iterate over the batches of the dataset.\n",
    "    for step, (x_batch_train, y_batch_train) in enumerate(train_dataset):\n",
    "        with tf.GradientTape() as tape:\n",
    "            logits = model(x_batch_train, training=True)\n",
    "            loss_value = loss_fn(y_batch_train, logits)\n",
    "        grads = tape.gradient(loss_value, model.trainable_weights)\n",
    "        model.optimizer.apply_gradients(zip(grads, model.trainable_weights))\n",
    "\n",
    "        # Update training metric.\n",
    "        train_acc_metric.update_state(y_batch_train, logits)\n",
    "\n",
    "        # Log every 200 batches.\n",
    "        if step % 200 == 0:\n",
    "            print(\n",
    "                \"Training loss (for one batch) at step %d: %.4f\"\n",
    "                % (step, float(loss_value))\n",
    "            )\n",
    "            print(\"Seen so far: %d samples\" % ((step + 1) * batch_size))\n",
    "\n",
    "    # Display metrics at the end of each epoch.\n",
    "    train_acc = train_acc_metric.result()\n",
    "    print(\"Training acc over epoch: %.4f\" % (float(train_acc),))\n",
    "\n",
    "    # Reset training metrics at the end of each epoch\n",
    "    train_acc_metric.reset_states()\n",
    "\n",
    "    # Run a validation loop at the end of each epoch.\n",
    "    for x_batch_val, y_batch_val in val_dataset:\n",
    "        val_logits = model(x_batch_val, training=False)\n",
    "        # Update val metrics\n",
    "        val_acc_metric.update_state(y_batch_val, val_logits)\n",
    "    val_acc = val_acc_metric.result()\n",
    "    val_acc_metric.reset_states()\n",
    "    print(\"Validation acc: %.4f\" % (float(val_acc),))\n",
    "    print(\"Time taken: %.2fs\" % (time.time() - start_time))"
   ]
  },
  {
   "cell_type": "code",
   "execution_count": 11,
   "metadata": {},
   "outputs": [
    {
     "data": {
      "text/plain": [
       "<matplotlib.image.AxesImage at 0x7f212af95898>"
      ]
     },
     "execution_count": 11,
     "metadata": {},
     "output_type": "execute_result"
    },
    {
     "data": {
      "image/png": "[encoded data removed]",
      "text/plain": [
       "<Figure size 432x288 with 1 Axes>"
      ]
     },
     "metadata": {
      "needs_background": "light"
     },
     "output_type": "display_data"
    }
   ],
   "source": [
    "plt.imshow(model.weights[0])"
   ]
  },
  {
   "cell_type": "code",
   "execution_count": null,
   "metadata": {},
   "outputs": [],
   "source": [
    "model.los"
   ]
  }
 ],
 "metadata": {
  "interpreter": {
   "hash": "31f2aee4e71d21fbe5cf8b01ff0e069b9275f58929596ceb00d14d90e3e16cd6"
  },
  "kernelspec": {
   "display_name": "Python 3.6.9 64-bit",
   "name": "python3"
  },
  "language_info": {
   "codemirror_mode": {
    "name": "ipython",
    "version": 3
   },
   "file_extension": ".py",
   "mimetype": "text/x-python",
   "name": "python",
   "nbconvert_exporter": "python",
   "pygments_lexer": "ipython3",
   "version": "3.6.9"
  },
  "orig_nbformat": 4
 },
 "nbformat": 4,
 "nbformat_minor": 2
}
