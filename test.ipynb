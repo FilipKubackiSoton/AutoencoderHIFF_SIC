{
 "cells": [
  {
   "cell_type": "code",
   "execution_count": 70,
   "metadata": {},
   "outputs": [],
   "source": [
    "from autoencoder import Autoencoder\n",
    "from SINDY import sindy_library_tf\n",
    "from HIFF import generate_training_sat\n",
    "import matplotlib.pyplot as plt\n",
    "from typing import List, Optional\n",
    "import tensorflow as tf\n"
   ]
  },
  {
   "cell_type": "code",
   "execution_count": 2,
   "metadata": {},
   "outputs": [
    {
     "name": "stdout",
     "output_type": "stream",
     "text": [
      "[INFO] generating trainnig dataset...\n",
      "[INFO] generating testing dataset...\n"
     ]
    }
   ],
   "source": [
    "# generate the trainig set \n",
    "print(\"[INFO] generating trainnig dataset...\")\n",
    "(trainX, trainY) = generate_training_sat(32, 100)\n",
    "\n",
    "# generate the test set \n",
    "print(\"[INFO] generating testing dataset...\")\n",
    "(testX, testY) = generate_training_sat(32,20)"
   ]
  },
  {
   "cell_type": "code",
   "execution_count": 34,
   "metadata": {},
   "outputs": [
    {
     "data": {
      "text/plain": [
       "<keras.initializers.initializers_v2.RandomNormal at 0x7fd08d971240>"
      ]
     },
     "execution_count": 34,
     "metadata": {},
     "output_type": "execute_result"
    }
   ],
   "source": [
    "tmp = tf.keras.initializers.RandomNormal\n",
    "tmp(stddev=0.01)"
   ]
  },
  {
   "cell_type": "code",
   "execution_count": 37,
   "metadata": {},
   "outputs": [
    {
     "data": {
      "text/plain": [
       "['mean',\n",
       " 'stddev',\n",
       " 'seed',\n",
       " '_random_generator',\n",
       " '__module__',\n",
       " '__doc__',\n",
       " '__init__',\n",
       " '__call__',\n",
       " 'get_config',\n",
       " '_keras_api_names',\n",
       " '_keras_api_names_v1',\n",
       " 'from_config',\n",
       " '__dict__',\n",
       " '__weakref__',\n",
       " '__repr__',\n",
       " '__hash__',\n",
       " '__str__',\n",
       " '__getattribute__',\n",
       " '__setattr__',\n",
       " '__delattr__',\n",
       " '__lt__',\n",
       " '__le__',\n",
       " '__eq__',\n",
       " '__ne__',\n",
       " '__gt__',\n",
       " '__ge__',\n",
       " '__new__',\n",
       " '__reduce_ex__',\n",
       " '__reduce__',\n",
       " '__subclasshook__',\n",
       " '__init_subclass__',\n",
       " '__format__',\n",
       " '__sizeof__',\n",
       " '__dir__',\n",
       " '__class__']"
      ]
     },
     "execution_count": 37,
     "metadata": {},
     "output_type": "execute_result"
    }
   ],
   "source": [
    "tf.keras.initializers.RandomNormal(stddev=0.01).__class__\n",
    "tf.keras.initializers.RandomNormal(stddev=0.01).__dir__()"
   ]
  },
  {
   "cell_type": "code",
   "execution_count": 99,
   "metadata": {},
   "outputs": [
    {
     "data": {
      "text/plain": [
       "False"
      ]
     },
     "execution_count": 99,
     "metadata": {},
     "output_type": "execute_result"
    }
   ],
   "source": [
    "\n",
    "tmp = tf.keras.initializers.RandomNormal(stddev=0.01)#.__init__(stddev=0.01)\n",
    "tmp.__class__(**tmp.get_config()) == tmp "
   ]
  },
  {
   "cell_type": "code",
   "execution_count": 96,
   "metadata": {},
   "outputs": [
    {
     "data": {
      "text/plain": [
       "{'mean': 0.0, 'stddev': 0.01, 'seed': None}"
      ]
     },
     "execution_count": 96,
     "metadata": {},
     "output_type": "execute_result"
    }
   ],
   "source": []
  },
  {
   "cell_type": "code",
   "execution_count": 113,
   "metadata": {},
   "outputs": [
    {
     "name": "stdout",
     "output_type": "stream",
     "text": [
      "kwargs default params:  dict_keys(['name'])\n",
      "[{}, {}]\n",
      "{'l1': 0.0, 'l2': 0.0, 'dropout': 0.0, 'activation': 'tanh', 'kernel_initializer': <keras.initializers.initializers_v2.RandomNormal object at 0x7fd08dbdc940>, 'bias_initializer': <keras.initializers.initializers_v2.Zeros object at 0x7fd08dbdc9e8>}\n",
      "end this shit\n",
      "Layer params form encoder: \n",
      "[{'l1': 0.0, 'l2': 0.0, 'dropout': 0.0, 'activation': 'tanh', 'kernel_initializer': <keras.initializers.initializers_v2.RandomNormal object at 0x7fd08dbdc940>, 'bias_initializer': <keras.initializers.initializers_v2.Zeros object at 0x7fd08dbdc9e8>}, {'l1': 0.0, 'l2': 0.0, 'dropout': 0.0, 'activation': 'tanh', 'kernel_initializer': <keras.initializers.initializers_v2.RandomNormal object at 0x7fd08dbdc940>, 'bias_initializer': <keras.initializers.initializers_v2.Zeros object at 0x7fd08dbdc9e8>}]\n",
      "[{'l1': 0.0, 'l2': 0.0, 'dropout': 0.0, 'activation': 'tanh', 'kernel_initializer': <keras.initializers.initializers_v2.RandomNormal object at 0x7fd08dbdc940>, 'bias_initializer': <keras.initializers.initializers_v2.Zeros object at 0x7fd08dbdc9e8>}, {'l1': 0.0, 'l2': 0.0, 'dropout': 0.0, 'activation': 'tanh', 'kernel_initializer': <keras.initializers.initializers_v2.RandomNormal object at 0x7fd08dbdc940>, 'bias_initializer': <keras.initializers.initializers_v2.Zeros object at 0x7fd08dbdc9e8>}]\n",
      "[{'l1': 0.0, 'l2': 0.0, 'dropout': 0.0, 'activation': 'tanh', 'kernel_initializer': <keras.initializers.initializers_v2.GlorotUniform object at 0x7fd08d9c0b38>, 'bias_initializer': <keras.initializers.initializers_v2.Zeros object at 0x7fd08d9c0cc0>}]\n",
      "Model: \"model_47\"\n",
      "_________________________________________________________________\n",
      "Layer (type)                 Output Shape              Param #   \n",
      "=================================================================\n",
      "autoencoder_input (InputLaye [(None, 32)]              0         \n",
      "_________________________________________________________________\n",
      "fucku_0 (Dense)              (None, 25)                825       \n",
      "_________________________________________________________________\n",
      "decoder_0 (DenseTranspose)   (None, 32)                857       \n",
      "=================================================================\n",
      "Total params: 857\n",
      "Trainable params: 857\n",
      "Non-trainable params: 0\n",
      "_________________________________________________________________\n",
      "Epoch 1/20\n",
      "34/34 [==============================] - 1s 3ms/step - loss: 0.2838\n",
      "Epoch 2/20\n",
      "34/34 [==============================] - 0s 3ms/step - loss: 0.2128\n",
      "Epoch 3/20\n",
      "34/34 [==============================] - 0s 3ms/step - loss: 0.1196\n",
      "Epoch 4/20\n",
      "34/34 [==============================] - 0s 3ms/step - loss: 0.0605\n",
      "Epoch 5/20\n",
      "34/34 [==============================] - 0s 3ms/step - loss: 0.0313\n",
      "Epoch 6/20\n",
      "34/34 [==============================] - 0s 3ms/step - loss: 0.0178\n",
      "Epoch 7/20\n",
      "34/34 [==============================] - 0s 3ms/step - loss: 0.0113\n",
      "Epoch 8/20\n",
      "34/34 [==============================] - 0s 3ms/step - loss: 0.0074\n",
      "Epoch 9/20\n",
      "34/34 [==============================] - 0s 3ms/step - loss: 0.0070\n",
      "Epoch 10/20\n",
      "34/34 [==============================] - 0s 2ms/step - loss: 0.0067\n",
      "Epoch 11/20\n",
      "34/34 [==============================] - 0s 2ms/step - loss: 0.0061\n",
      "Epoch 12/20\n",
      "34/34 [==============================] - 0s 3ms/step - loss: 0.0054\n",
      "Epoch 13/20\n",
      "34/34 [==============================] - 0s 2ms/step - loss: 0.0052\n",
      "Epoch 14/20\n",
      "34/34 [==============================] - 0s 3ms/step - loss: 0.0049\n",
      "Epoch 15/20\n",
      "34/34 [==============================] - 0s 3ms/step - loss: 0.0047\n",
      "Epoch 16/20\n",
      "34/34 [==============================] - 0s 2ms/step - loss: 0.0048\n",
      "Epoch 17/20\n",
      "34/34 [==============================] - 0s 3ms/step - loss: 0.0048\n",
      "Epoch 18/20\n",
      "34/34 [==============================] - 0s 3ms/step - loss: 0.0046\n",
      "Epoch 19/20\n",
      "34/34 [==============================] - 0s 3ms/step - loss: 0.0044\n",
      "Epoch 20/20\n",
      "34/34 [==============================] - 0s 4ms/step - loss: 0.0043\n"
     ]
    },
    {
     "data": {
      "text/plain": [
       "<matplotlib.image.AxesImage at 0x7fd08dc8b278>"
      ]
     },
     "execution_count": 113,
     "metadata": {},
     "output_type": "execute_result"
    },
    {
     "data": {
      "image/png": "[encoded data removed]",
      "text/plain": [
       "<Figure size 432x288 with 1 Axes>"
      ]
     },
     "metadata": {
      "needs_background": "light"
     },
     "output_type": "display_data"
    }
   ],
   "source": [
    "epochs = 20\n",
    "batch_size = 3\n",
    "# \"layers_params\" : [{\"l1\": 0.001, \"l2\" : 0.0, \"dropout\" : 0.2}, {\"l1\" : 0.001}],\n",
    "\n",
    "model = Autoencoder([32, 25], ekwargs = {\n",
    "        \"name\" : \"fucku\",\n",
    "        \"layers_params\" : [{\"l1\": 0.001, \"l2\" : 0.0, \"dropout\" : 0.2}, {\"l1\" : 0.001}],\n",
    "        'layers_default_params' : {\n",
    "        'l1' : 0.001, \n",
    "        'l2' : 0.0, \n",
    "        'dropout' : 0.2, \n",
    "        'activation' : \"tanh\",\n",
    "        'kernel_initializer' : tf.keras.initializers.RandomNormal(stddev=0.01),\n",
    "        'bias_initializer' : tf.keras.initializers.Zeros()\n",
    "        },\n",
    "})\n",
    "model.build_graph().summary()\n",
    "model.compile(\n",
    "        optimizer=tf.keras.optimizers.Adam(learning_rate=0.01), \n",
    "        loss=\"mse\")\n",
    "\n",
    "model.fit(trainY, trainY, \n",
    "epochs = epochs, \n",
    "batch_size = batch_size, \n",
    "verbose = 1)\n",
    "\n",
    "plt.imshow(model.encoder.weights[0].numpy())"
   ]
  },
  {
   "cell_type": "code",
   "execution_count": 110,
   "metadata": {},
   "outputs": [
    {
     "data": {
      "text/plain": [
       "{'name': 'fucku_0',\n",
       " 'trainable': True,\n",
       " 'dtype': 'float32',\n",
       " 'units': 25,\n",
       " 'activation': 'tanh',\n",
       " 'use_bias': True,\n",
       " 'kernel_initializer': {'class_name': 'RandomNormal',\n",
       "  'config': {'mean': 0.0, 'stddev': 0.01, 'seed': None}},\n",
       " 'bias_initializer': {'class_name': 'Zeros', 'config': {}},\n",
       " 'kernel_regularizer': {'class_name': 'L1L2',\n",
       "  'config': {'l1': 0.0010000000474974513, 'l2': 0.0}},\n",
       " 'bias_regularizer': None,\n",
       " 'activity_regularizer': None,\n",
       " 'kernel_constraint': None,\n",
       " 'bias_constraint': None}"
      ]
     },
     "execution_count": 110,
     "metadata": {},
     "output_type": "execute_result"
    }
   ],
   "source": [
    "#model.encoder.layers[2].__dir__()\n",
    "model.encoder.layers[2].get_config() #_activity_regularizer"
   ]
  },
  {
   "cell_type": "code",
   "execution_count": 14,
   "metadata": {},
   "outputs": [
    {
     "name": "stderr",
     "output_type": "stream",
     "text": [
      "/usr/local/lib/python3.6/dist-packages/keras/optimizer_v2/optimizer_v2.py:356: UserWarning: The `lr` argument is deprecated, use `learning_rate` instead.\n",
      "  \"The `lr` argument is deprecated, use `learning_rate` instead.\")\n"
     ]
    },
    {
     "name": "stdout",
     "output_type": "stream",
     "text": [
      "Model: \"model_8\"\n",
      "_________________________________________________________________\n",
      "Layer (type)                 Output Shape              Param #   \n",
      "=================================================================\n",
      "input_3 (InputLayer)         [(None, 32)]              0         \n",
      "_________________________________________________________________\n",
      "dropout_2 (Dropout)          (None, 32)                0         \n",
      "_________________________________________________________________\n",
      "dense_2 (Dense)              (None, 25)                825       \n",
      "_________________________________________________________________\n",
      "dense_transpose_2 (DenseTran (None, 32)                857       \n",
      "=================================================================\n",
      "Total params: 857\n",
      "Trainable params: 857\n",
      "Non-trainable params: 0\n",
      "_________________________________________________________________\n",
      "Epoch 1/20\n",
      "34/34 [==============================] - 1s 3ms/step - loss: 0.3060\n",
      "Epoch 2/20\n",
      "34/34 [==============================] - 0s 3ms/step - loss: 0.2485\n",
      "Epoch 3/20\n",
      "34/34 [==============================] - 0s 3ms/step - loss: 0.2101\n",
      "Epoch 4/20\n",
      "34/34 [==============================] - 0s 4ms/step - loss: 0.1782\n",
      "Epoch 5/20\n",
      "34/34 [==============================] - 0s 2ms/step - loss: 0.1488\n",
      "Epoch 6/20\n",
      "34/34 [==============================] - 0s 3ms/step - loss: 0.1363\n",
      "Epoch 7/20\n",
      "34/34 [==============================] - 0s 4ms/step - loss: 0.1231\n",
      "Epoch 8/20\n",
      "34/34 [==============================] - 0s 4ms/step - loss: 0.1136\n",
      "Epoch 9/20\n",
      "34/34 [==============================] - 0s 4ms/step - loss: 0.1015\n",
      "Epoch 10/20\n",
      "34/34 [==============================] - 0s 3ms/step - loss: 0.0935\n",
      "Epoch 11/20\n",
      "34/34 [==============================] - 0s 2ms/step - loss: 0.0875\n",
      "Epoch 12/20\n",
      "34/34 [==============================] - 0s 2ms/step - loss: 0.0784\n",
      "Epoch 13/20\n",
      "34/34 [==============================] - 0s 4ms/step - loss: 0.0821\n",
      "Epoch 14/20\n",
      "34/34 [==============================] - 0s 4ms/step - loss: 0.0731\n",
      "Epoch 15/20\n",
      "34/34 [==============================] - 0s 3ms/step - loss: 0.0745\n",
      "Epoch 16/20\n",
      "34/34 [==============================] - 0s 3ms/step - loss: 0.0733\n",
      "Epoch 17/20\n",
      "34/34 [==============================] - 0s 3ms/step - loss: 0.0677\n",
      "Epoch 18/20\n",
      "34/34 [==============================] - 0s 3ms/step - loss: 0.0626\n",
      "Epoch 19/20\n",
      "34/34 [==============================] - 0s 3ms/step - loss: 0.0570\n",
      "Epoch 20/20\n",
      "34/34 [==============================] - 0s 3ms/step - loss: 0.0689\n"
     ]
    },
    {
     "data": {
      "text/plain": [
       "<matplotlib.image.AxesImage at 0x7fd08de29ba8>"
      ]
     },
     "execution_count": 14,
     "metadata": {},
     "output_type": "execute_result"
    },
    {
     "data": {
      "image/png": "[encoded data removed]",
      "text/plain": [
       "<Figure size 432x288 with 1 Axes>"
      ]
     },
     "metadata": {
      "needs_background": "light"
     },
     "output_type": "display_data"
    }
   ],
   "source": [
    "from shallowNet.shallowNet import shallowNet\n",
    "model2 = shallowNet.build()\n",
    "model2.fit(\n",
    "    trainY, trainY,\n",
    "    epochs = epochs, \n",
    "    batch_size = batch_size,\n",
    ")\n",
    "plt.imshow(model2.weights[0])"
   ]
  },
  {
   "cell_type": "code",
   "execution_count": 13,
   "metadata": {},
   "outputs": [
    {
     "data": {
      "text/plain": [
       "<matplotlib.image.AxesImage at 0x7fd08de8bc88>"
      ]
     },
     "execution_count": 13,
     "metadata": {},
     "output_type": "execute_result"
    },
    {
     "data": {
      "image/png": "[encoded data removed]",
      "text/plain": [
       "<Figure size 432x288 with 1 Axes>"
      ]
     },
     "metadata": {
      "needs_background": "light"
     },
     "output_type": "display_data"
    }
   ],
   "source": []
  },
  {
   "cell_type": "code",
   "execution_count": null,
   "metadata": {},
   "outputs": [],
   "source": []
  },
  {
   "cell_type": "code",
   "execution_count": null,
   "metadata": {},
   "outputs": [],
   "source": [
    "def suplement_layers_params([32,25], [{\"l1\": 0.001, \"l2\" : 0.0, \"dropout\" : 0.2}, {\"l1\" : 0.001}], ) -> dict:\n"
   ]
  },
  {
   "cell_type": "code",
   "execution_count": null,
   "metadata": {},
   "outputs": [],
   "source": [
    "        \"layers_params\" : [{\"l1\": 0.001, \"l2\" : 0.0, \"dropout\" : 0.2}, {\"l1\" : 0.001}],\n",
    "        'layers_default_params' : {\n",
    "        'l1' : 0.001, \n",
    "        'l2' : 0.0, \n",
    "        'dropout' : 0.2, \n",
    "        'activation' : \"tanh\",\n",
    "        'kernel_initializer' : tf.keras.initializers.RandomNormal(stddev=0.01),\n",
    "        'bias_initializer' : tf.keras.initializers.Zeros()\n",
    "        },"
   ]
  },
  {
   "cell_type": "code",
   "execution_count": 111,
   "metadata": {},
   "outputs": [],
   "source": [
    "import tensorflow as tf\n",
    "import numpy as np\n",
    "from tensorflow.keras.layers import Dense, Input, Dropout\n",
    "from typing import List, Optional\n",
    "\n",
    "def suplement_layers_params(architecture : List[int], layers_params : List[dict], layers_default_params : dict) -> dict:\n",
    "    # add empty dicionaries to layers_params to corecponds to the encoding_layers_size size\n",
    "    for _ in range(len(architecture) - len(layers_params)):\n",
    "        layers_params.append({})\n",
    "    return [{**layers_default_params, **x} for x in layers_params]\n",
    "\n",
    "class DenseTranspose(tf.keras.layers.Layer):\n",
    "    \"\"\"\n",
    "    Dense transpose layer from dense layer\n",
    "    \"\"\"\n",
    "    def __init__(self, dense, activation = None, **kwargs):\n",
    "        self.dense = dense \n",
    "        self.activation = tf.keras.activations.get(activation)\n",
    "        super(DenseTranspose, self).__init__(**kwargs)\n",
    "    def build(self, batch_input_shape):\n",
    "        self.b = self.add_weight(name= \"bias\", shape = [ self.dense.input_shape[-1]], initializer = \"zeros\")\n",
    "        self.w = self.dense.weights[0]\n",
    "        super().build(batch_input_shape)\n",
    "        \n",
    "        \n",
    "    def call(self, inputs):\n",
    "        z = tf.linalg.matmul(inputs, self.w, transpose_b = True)\n",
    "        return self.activation(z + self.b)\n",
    "    \n",
    "    def get_weights(self):\n",
    "        return {\"w\": np.shape(tf.transpose(self.w))}    \n",
    "    @property \n",
    "    def weights_transpose(self):\n",
    "        return tf.transpose(self.dense.weights[0])\n",
    "\n",
    "\n",
    "class Encoder(tf.keras.layers.Layer):\n",
    "    \"\"\"\n",
    "    Encoder\n",
    "\n",
    "    isFirstInputLayer - use input dimension only in Input Layer\n",
    "    Kernel and bias are initialize by fresh instances of objects\n",
    "    \"\"\"\n",
    "    def __init__(self, \n",
    "    widths : List[int] = [32,24], \n",
    "    isFirstInputLayer : Optional[bool] = True,\n",
    "    layers_params : Optional[List[dict]] = [{}],\n",
    "    layers_default_params : dict = {\n",
    "        'l1' : 0.001, \n",
    "        'l2' : 0.0, \n",
    "        'dropout' : 0.2, \n",
    "        'activation' : \"tanh\",\n",
    "        'kernel_initializer' : tf.keras.initializers.GlorotUniform(),\n",
    "        'bias_initializer' : tf.keras.initializers.Zeros()\n",
    "        },\n",
    "    **kwargs):\n",
    "        super(Encoder, self).__init__(**kwargs)\n",
    "        self.latent_dim = widths[-1]\n",
    "        self.input_dim = widths[0]\n",
    "        self.layers = []\n",
    "        \n",
    "        if not (\"name\" in kwargs.keys()):\n",
    "            kwargs[\"name\"] = \"encoder\"\n",
    "\n",
    "        \n",
    "        print(\"kwargs default params: \", kwargs.keys())\n",
    "        print(layers_params)\n",
    "        print(layers_default_params)\n",
    "        print(\"end this shit\")\n",
    "        layers_params = suplement_layers_params(widths, layers_params, layers_default_params)\n",
    "        print(\"Layer params form encoder: \\n{}\".format(layers_params))\n",
    "        for (layer_index, layer_dim), layer_params_ in zip(\n",
    "            enumerate(widths[1:] if isFirstInputLayer else widths), \n",
    "            layers_params):\n",
    "\n",
    "            if layer_params_[\"dropout\"] > 0.0:\n",
    "                self.layers.append(Dropout(\n",
    "                    layer_params_[\"dropout\"],\n",
    "                    name = kwargs[\"name\"] + \"_{}_dropout\".format(layer_index)\n",
    "                    ))\n",
    "            # construct encoder layer \n",
    "            self.layers.append(Dense(\n",
    "                    units = layer_dim,\n",
    "                    activation= layer_params_[\"activation\"],\n",
    "                    kernel_initializer= layer_params_[\"kernel_initializer\"].__class__(**layer_params_[\"kernel_initializer\"].get_config()),\n",
    "                    bias_initializer= layer_params_[\"bias_initializer\"].__class__(**layer_params_[\"bias_initializer\"].get_config()),\n",
    "                    kernel_regularizer = tf.keras.regularizers.L1L2(\n",
    "                        l1=layer_params_[\"l1\"], \n",
    "                        l2=layer_params_[\"l2\"]),\n",
    "                    name = kwargs[\"name\"] + \"_{}\".format(layer_index)))\n",
    "        \n",
    "        print(layers_params)\n",
    "\n",
    "    def call(self, inputs):\n",
    "        x = inputs\n",
    "        for layer in self.layers:\n",
    "            x = layer(x)\n",
    "        return x\n",
    "\n",
    "\n",
    "    def build_graph(self):\n",
    "        x = Input(shape=(self.input_dim, ), name = 'encoder_input')\n",
    "        return tf.keras.Model(inputs = [x], outputs = self.call(x))\n",
    "\n",
    "\n",
    "class Decoder(tf.keras.layers.Layer):\n",
    "    \"\"\"\n",
    "    Decoder\n",
    "\n",
    "    isTranspose - use transposed layers from encoder. If False create fresh layers of the same size of encoder\n",
    "    \"\"\"\n",
    "\n",
    "    \"\"\"\n",
    "    Add decoder documentation.\n",
    "    \"\"\"\n",
    "    def __init__(self, \n",
    "    encoder : Encoder, \n",
    "    isTranspose : Optional[bool] = True,  \n",
    "    layers_params : Optional[List[dict]] = [],\n",
    "    layers_default_params : dict = {\n",
    "        'l1' : 0.0, \n",
    "        'l2' : 0.0,\n",
    "        'dropout' : 0.0, \n",
    "        'activation' : \"tanh\",\n",
    "        'kernel_initializer' : tf.keras.initializers.GlorotUniform(),\n",
    "        'bias_initializer' : tf.keras.initializers.Zeros()\n",
    "        }, \n",
    "    **kwargs):\n",
    "\n",
    "        super(Decoder, self).__init__(**kwargs)\n",
    "        self.input_dim = encoder.weights[0].shape[-1]\n",
    "        self.output_dim = encoder.weights[-1].shape[-1]\n",
    "        self.layers = []\n",
    "\n",
    "        if not (\"name\" in kwargs.keys()):\n",
    "            kwargs[\"name\"] = \"decoder\"\n",
    "\n",
    "        layers_params = suplement_layers_params([x for x in encoder.layers[1:][::-1] if type(x) == Dense], layers_params, layers_default_params)\n",
    "\n",
    "        if isTranspose:\n",
    "            for layer_index, layer in enumerate([x for x in encoder.layers[1:][::-1] if type(x) == Dense]):\n",
    "                self.layers.append(\n",
    "                    DenseTranspose(\n",
    "                        dense = layer,\n",
    "                        name = kwargs[\"name\"] + \"_{}\".format(layer_index)\n",
    "                        )\n",
    "                    )\n",
    "        else:        \n",
    "            for (layer_index, layer_dim), layer_params_ in zip(\n",
    "                enumerate([x.input_shape[-1] for x in encoder.layers][1:][::-1]), \n",
    "                layers_params):\n",
    "                \n",
    "                if layer_params_[\"dropout\"] > 0.0:\n",
    "                    self.layers.append(Dropout(\n",
    "                        layer_params_[\"dropout\"],\n",
    "                        name = kwargs[\"name\"] + \"_{}_dropout\".format(layer_index)\n",
    "                        ))\n",
    "\n",
    "                self.layers.append(Dense(\n",
    "                    units = layer_dim,\n",
    "                    activation= layer_params_[\"activation\"],\n",
    "                    kernel_initializer= layer_params_[\"kernel_initializer\"].__class__(**layer_params_[\"kernel_initializer\"].get_config()),\n",
    "                    bias_initializer= layer_params_[\"bias_initializer\"].__class__(**layer_params_[\"bias_initializer\"].get_config()),\n",
    "                    kernel_regularizer = tf.keras.regularizers.L1L2(\n",
    "                        l1=layer_params_[\"l1\"], \n",
    "                        l2=layer_params_[\"l2\"]),\n",
    "                    name = kwargs[\"name\"] + \"_{}\".format(layer_index)))\n",
    "    \n",
    "        print(layers_params)\n",
    "    \"\"\"\n",
    "    Add privileged training: training = None \n",
    "    \"\"\"\n",
    "    def call(self, inputs):\n",
    "        x = inputs\n",
    "        for layer in self.layers:\n",
    "            x = layer(x)\n",
    "        return x\n",
    "\n",
    "\n",
    "    def build_graph(self):\n",
    "        x = Input(shape=(self.output_dim, ), name = 'decoder_input')\n",
    "        return tf.keras.Model(inputs = [x], outputs = self.call(x))\n",
    "\n",
    "    \"\"\"\n",
    "    Overtide this method to enable serialization \n",
    "    \"\"\"\n",
    "    def get_config(self):\n",
    "        pass\n",
    "\n",
    "class Autoencoder(tf.keras.Model):\n",
    "    \"\"\"\n",
    "    Autoencoder\n",
    "    Stack both encoder and decoder\n",
    "    \"\"\"\n",
    "    def __init__(self, \n",
    "    widths : List[int] = [32,28,25], \n",
    "    name : Optional[str] = \"autoencoder\", \n",
    "    ekwargs : Optional[dict] = {}, \n",
    "    dkwargs : Optional[dict] = {}, \n",
    "    **kwargs):\n",
    "        if not (\"name\" in kwargs.keys()):\n",
    "            kwargs[\"name\"] = \"autoencoder\"\n",
    "\n",
    "        super(Autoencoder, self).__init__(**kwargs)\n",
    "        self.input_dim = widths[0]\n",
    "        self.latent_dim = widths[-1]\n",
    "        self.encoder = Encoder(widths, **ekwargs).build_graph()\n",
    "        self.decoder = Decoder(self.encoder, **dkwargs).build_graph()\n",
    "    \n",
    "    def call(self, input):        \n",
    "        x = self.encoder.layers[1](input)\n",
    "        for layer in self.encoder.layers[2:] + self.decoder.layers[1:]:\n",
    "            x = layer(x)\n",
    "        return x\n",
    "        \n",
    "    \n",
    "    def compile(self, **kwargs):\n",
    "        super(Autoencoder, self).compile(**kwargs)\n",
    "\n",
    "    def build_graph(self,):\n",
    "        x = Input(shape=(self.input_dim, ), name = 'autoencoder_input')\n",
    "        return tf.keras.Model(inputs = [x], outputs = self.call(x))\n",
    "\n",
    "    def encode(self, input):\n",
    "        return self.encoder(input)\n",
    "    \n",
    "    def decode(self, input):\n",
    "        return self.decoder(input)\n",
    "\n",
    "    def get_input_dim(self) -> int:\n",
    "        return self.input_dim\n",
    "    \n",
    "    def get_latent_dim(self) -> int:\n",
    "        return self.latent_dim\n"
   ]
  },
  {
   "cell_type": "code",
   "execution_count": null,
   "metadata": {},
   "outputs": [],
   "source": []
  }
 ],
 "metadata": {
  "interpreter": {
   "hash": "31f2aee4e71d21fbe5cf8b01ff0e069b9275f58929596ceb00d14d90e3e16cd6"
  },
  "kernelspec": {
   "display_name": "Python 3.6.9 64-bit",
   "name": "python3"
  },
  "language_info": {
   "codemirror_mode": {
    "name": "ipython",
    "version": 3
   },
   "file_extension": ".py",
   "mimetype": "text/x-python",
   "name": "python",
   "nbconvert_exporter": "python",
   "pygments_lexer": "ipython3",
   "version": "3.6.9"
  },
  "orig_nbformat": 4
 },
 "nbformat": 4,
 "nbformat_minor": 2
}
